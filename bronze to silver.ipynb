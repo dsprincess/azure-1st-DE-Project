{
 "cells": [
  {
   "cell_type": "markdown",
   "metadata": {
    "application/vnd.databricks.v1+cell": {
     "cellMetadata": {
      "byteLimit": 2048000,
      "rowLimit": 10000
     },
     "inputWidgets": {},
     "nuid": "dc4440d0-1f5d-4fdc-8d23-b048bedb9346",
     "showTitle": false,
     "title": ""
    }
   },
   "source": [
    "Doing transformation for all tables"
   ]
  },
  {
   "cell_type": "code",
   "execution_count": 0,
   "metadata": {
    "application/vnd.databricks.v1+cell": {
     "cellMetadata": {
      "byteLimit": 2048000,
      "rowLimit": 10000
     },
     "inputWidgets": {},
     "nuid": "814755cb-f9b6-4ae2-a6a5-ffc6320510d6",
     "showTitle": false,
     "title": ""
    }
   },
   "outputs": [],
   "source": [
    "from pyspark.sql.functions import from_utc_timestamp, date_format\n",
    "from pyspark.sql.types import TimestampType\n",
    "\n",
    "table_name = []\n",
    "for i in dbutils.fs.ls('/mnt/bronze/SalesLT'):\n",
    "    table_name.append(i.name.split('/')[0])"
   ]
  },
  {
   "cell_type": "code",
   "execution_count": 0,
   "metadata": {
    "application/vnd.databricks.v1+cell": {
     "cellMetadata": {
      "byteLimit": 2048000,
      "rowLimit": 10000
     },
     "inputWidgets": {},
     "nuid": "e18352b9-4d5d-45ec-ade2-55aca93308a8",
     "showTitle": false,
     "title": ""
    }
   },
   "outputs": [
    {
     "output_type": "execute_result",
     "data": {
      "text/plain": [
       "['Address',\n",
       " 'Customer',\n",
       " 'CustomerAddress',\n",
       " 'Product',\n",
       " 'ProductCategory',\n",
       " 'ProductDescription',\n",
       " 'ProductModel',\n",
       " 'ProductModelProductDescription',\n",
       " 'SalesOrderDetail',\n",
       " 'SalesOrderHeader']"
      ]
     },
     "execution_count": 2,
     "metadata": {},
     "output_type": "execute_result"
    }
   ],
   "source": [
    "table_name"
   ]
  },
  {
   "cell_type": "code",
   "execution_count": 0,
   "metadata": {
    "application/vnd.databricks.v1+cell": {
     "cellMetadata": {
      "byteLimit": 2048000,
      "rowLimit": 10000
     },
     "inputWidgets": {},
     "nuid": "02a0c7b1-528a-4c63-80b2-e3286dd1febd",
     "showTitle": false,
     "title": ""
    }
   },
   "outputs": [],
   "source": [
    "for i in table_name:\n",
    "    path = f'/mnt/bronze/SalesLT/{i}/{i}.parquet'\n",
    "    \n",
    "    if dbutils.fs.ls(path):\n",
    "        df = spark.read.format('parquet').load(path)\n",
    "        columns = df.columns\n",
    "\n",
    "        for col in columns:\n",
    "            if \"Date\" in col or \"date\" in col:\n",
    "                df = df.withColumn(\n",
    "                    col, \n",
    "                    date_format(\n",
    "                        from_utc_timestamp(df[col].cast(TimestampType()), \"UTC\"), \n",
    "                        \"yyyy-MM-dd\"\n",
    "                    )\n",
    "                )\n",
    "        \n",
    "        output_path = f'/mnt/silver/SalesLT/{i}/'\n",
    "        df.write.format('delta').mode(\"overwrite\").save(output_path)"
   ]
  }
 ],
 "metadata": {
  "application/vnd.databricks.v1+notebook": {
   "dashboards": [],
   "environmentMetadata": null,
   "language": "python",
   "notebookMetadata": {
    "pythonIndentUnit": 4
   },
   "notebookName": "bronze to silver",
   "widgets": {}
  }
 },
 "nbformat": 4,
 "nbformat_minor": 0
}

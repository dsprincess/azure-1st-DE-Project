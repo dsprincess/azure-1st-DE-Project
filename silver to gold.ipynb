{
 "cells": [
  {
   "cell_type": "markdown",
   "metadata": {
    "application/vnd.databricks.v1+cell": {
     "cellMetadata": {
      "byteLimit": 2048000,
      "rowLimit": 10000
     },
     "inputWidgets": {},
     "nuid": "dc4440d0-1f5d-4fdc-8d23-b048bedb9346",
     "showTitle": false,
     "title": ""
    }
   },
   "source": [
    "Doing transformation for all tables"
   ]
  },
  {
   "cell_type": "code",
   "execution_count": 0,
   "metadata": {
    "application/vnd.databricks.v1+cell": {
     "cellMetadata": {
      "byteLimit": 2048000,
      "rowLimit": 10000
     },
     "inputWidgets": {},
     "nuid": "814755cb-f9b6-4ae2-a6a5-ffc6320510d6",
     "showTitle": false,
     "title": ""
    }
   },
   "outputs": [],
   "source": [
    "from pyspark.sql.functions import col, regexp_replace\n",
    "from pyspark.sql import SparkSession\n",
    "\n",
    "table_name = []\n",
    "for i in dbutils.fs.ls('/mnt/silver/SalesLT'):\n",
    "    table_name.append(i.name.split('/')[0])"
   ]
  },
  {
   "cell_type": "code",
   "execution_count": 0,
   "metadata": {
    "application/vnd.databricks.v1+cell": {
     "cellMetadata": {
      "byteLimit": 2048000,
      "rowLimit": 10000
     },
     "inputWidgets": {},
     "nuid": "e18352b9-4d5d-45ec-ade2-55aca93308a8",
     "showTitle": false,
     "title": ""
    }
   },
   "outputs": [
    {
     "output_type": "execute_result",
     "data": {
      "text/plain": [
       "['Address',\n",
       " 'Customer',\n",
       " 'CustomerAddress',\n",
       " 'Product',\n",
       " 'ProductCategory',\n",
       " 'ProductDescription',\n",
       " 'ProductModel',\n",
       " 'ProductModelProductDescription',\n",
       " 'SalesOrderDetail',\n",
       " 'SalesOrderHeader']"
      ]
     },
     "execution_count": 2,
     "metadata": {},
     "output_type": "execute_result"
    }
   ],
   "source": [
    "table_name"
   ]
  },
  {
   "cell_type": "code",
   "execution_count": 0,
   "metadata": {
    "application/vnd.databricks.v1+cell": {
     "cellMetadata": {
      "byteLimit": 2048000,
      "rowLimit": 10000
     },
     "inputWidgets": {},
     "nuid": "02a0c7b1-528a-4c63-80b2-e3286dd1febd",
     "showTitle": false,
     "title": ""
    }
   },
   "outputs": [],
   "source": [
    "for i in table_name:\n",
    "    path = f'/mnt/silver/SalesLT/{i}'\n",
    "    \n",
    "    if dbutils.fs.ls(path):\n",
    "        df = spark.read.format('delta').load(path)\n",
    "        column_names = df.columns\n",
    "\n",
    "        for old_col_name in column_names:\n",
    "            # Convert column name from ColumnName to Column_Name format\n",
    "            new_col_name = \"\".join([\"_\" + char if char.isupper() and not old_col_name[i-1].isupper() else char for i, char in enumerate(old_col_name)]).lstrip(\"_\")\n",
    "\n",
    "            # Change the column name using withColumnRenamed and regexp_replace\n",
    "            df = df.withColumnRenamed(old_col_name, new_col_name)\n",
    "        \n",
    "        output_path = f'/mnt/gold/SalesLT/{i}/'\n",
    "        df.write.format('delta').mode(\"overwrite\").save(output_path)"
   ]
  }
 ],
 "metadata": {
  "application/vnd.databricks.v1+notebook": {
   "dashboards": [],
   "environmentMetadata": null,
   "language": "python",
   "notebookMetadata": {
    "pythonIndentUnit": 4
   },
   "notebookName": "silver to gold",
   "widgets": {}
  }
 },
 "nbformat": 4,
 "nbformat_minor": 0
}
